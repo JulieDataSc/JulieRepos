{
 "cells": [
  {
   "cell_type": "markdown",
   "id": "de9f77d7",
   "metadata": {},
   "source": [
    "**Excercise 2**\n",
    "\n",
    "# Data Science Tools and Ecosystem"
   ]
  },
  {
   "cell_type": "markdown",
   "id": "6fea0f65",
   "metadata": {},
   "source": [
    "**Excercise 3**\n",
    "\n",
    "### In this notebook, Data Science Tools and Ecosystem are summarized."
   ]
  },
  {
   "cell_type": "markdown",
   "id": "6fd72ba2",
   "metadata": {},
   "source": [
    "**Excercise 10**\n",
    "\n",
    "**Objectives:**\n",
    "* Create a markdown cells.\n",
    "* Data Science Tools\n",
    "* Create Ordered List\n",
    "* Listcommonly used libraries\n",
    "* Evaluate Expressions"
   ]
  },
  {
   "cell_type": "markdown",
   "id": "57c64719",
   "metadata": {},
   "source": [
    "**Excercise 4**\n",
    "\n",
    "#### Some of the popular languages that Data Scientists use are:\n",
    "1. Python\n",
    "2. R\n",
    "3. Java\n"
   ]
  },
  {
   "cell_type": "markdown",
   "id": "5fbf7824",
   "metadata": {},
   "source": [
    "**Excercise 5**\n",
    "\n",
    "#### Some of the commonly used libraries used by Data Scientists include:\n",
    "\n",
    "1. Pandas\n",
    "2. Numpy\n",
    "3. Matplotlib\n"
   ]
  },
  {
   "cell_type": "markdown",
   "id": "c1deb2f3",
   "metadata": {},
   "source": [
    "**Excercise 6**\n",
    "\n",
    "| Data Science Tools |\n",
    "| ------------------ |\n",
    "| Jupyter |\n",
    "| RStudio |\n",
    "| Apache Zeppelin |"
   ]
  },
  {
   "cell_type": "markdown",
   "id": "598efe79",
   "metadata": {},
   "source": [
    "**Excercise 7**\n",
    "\n",
    "### Below are a few examples of evaluating arithmetic expressions in Python\n",
    "\n"
   ]
  },
  {
   "cell_type": "markdown",
   "id": "51cfdcd9",
   "metadata": {},
   "source": [
    "**Excercise 8**"
   ]
  },
  {
   "cell_type": "code",
   "execution_count": 1,
   "id": "9f2e9ad5",
   "metadata": {},
   "outputs": [
    {
     "data": {
      "text/plain": [
       "17"
      ]
     },
     "execution_count": 1,
     "metadata": {},
     "output_type": "execute_result"
    }
   ],
   "source": [
    "# This a simple arithmetic expression to mutiply then add integers\n",
    "\n",
    "(3*4)+5"
   ]
  },
  {
   "cell_type": "markdown",
   "id": "ce3192a0",
   "metadata": {},
   "source": [
    "**Excercise 9**"
   ]
  },
  {
   "cell_type": "code",
   "execution_count": 2,
   "id": "e6073a2c",
   "metadata": {},
   "outputs": [
    {
     "name": "stdout",
     "output_type": "stream",
     "text": [
      "3.33\n"
     ]
    }
   ],
   "source": [
    "# This will convert 200 minutes to hours by diving by 60\n",
    "\n",
    "hours = round(200/60, 2) #rounding the to 2 decimal places\n",
    "print(hours)"
   ]
  },
  {
   "cell_type": "markdown",
   "id": "c0165cb7",
   "metadata": {},
   "source": [
    "**Excercise 11**\n",
    "\n",
    "## Author: Julie-Ann McCalla\n"
   ]
  }
 ],
 "metadata": {
  "kernelspec": {
   "display_name": "Python 3 (ipykernel)",
   "language": "python",
   "name": "python3"
  },
  "language_info": {
   "codemirror_mode": {
    "name": "ipython",
    "version": 3
   },
   "file_extension": ".py",
   "mimetype": "text/x-python",
   "name": "python",
   "nbconvert_exporter": "python",
   "pygments_lexer": "ipython3",
   "version": "3.9.13"
  }
 },
 "nbformat": 4,
 "nbformat_minor": 5
}
